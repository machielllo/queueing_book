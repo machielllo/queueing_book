{
 "cells": [
  {
   "cell_type": "code",
   "execution_count": null,
   "id": "fa5449c0",
   "metadata": {},
   "outputs": [],
   "source": [
    "233"
   ]
  },
  {
   "cell_type": "code",
   "execution_count": null,
   "id": "f9a836c8",
   "metadata": {},
   "outputs": [],
   "source": []
  }
 ],
 "metadata": {
  "kernelspec": {
   "display_name": "Python 3 (ipykernel)",
   "language": "python",
   "name": "python3"
  },
  "language_info": {
   "codemirror_mode": {
    "name": "ipython",
    "version": 3
   },
   "file_extension": ".py",
   "mimetype": "text/x-python",
   "name": "python",
   "nbconvert_exporter": "python",
   "pygments_lexer": "ipython3",
   "version": "3.10.2"
  }
 },
 "nbformat": 4,
 "nbformat_minor": 5
}
